{
 "cells": [
  {
   "cell_type": "code",
   "execution_count": 1,
   "id": "56e3e42b",
   "metadata": {},
   "outputs": [],
   "source": [
    "import cv2\n",
    "import torch\n",
    "import argparse"
   ]
  },
  {
   "cell_type": "code",
   "execution_count": 2,
   "id": "e959a267",
   "metadata": {},
   "outputs": [
    {
     "name": "stdout",
     "output_type": "stream",
     "text": [
      "fatal: destination path 'yolov5' already exists and is not an empty directory.\n",
      "/home/cmos/Downloads/yolov5\n",
      "Note: you may need to restart the kernel to use updated packages.\n",
      "Note: you may need to restart the kernel to use updated packages.\n"
     ]
    }
   ],
   "source": [
    "!git clone https://github.com/ultralytics/yolov5 \n",
    "%cd yolov5\n",
    "%pip install -qr requirements.txt\n",
    "%pip install -q roboflow"
   ]
  },
  {
   "cell_type": "code",
   "execution_count": 3,
   "id": "a156b4ac",
   "metadata": {},
   "outputs": [
    {
     "name": "stderr",
     "output_type": "stream",
     "text": [
      "Using cache found in /home/cmos/.cache/torch/hub/ultralytics_yolov5_master\n",
      "YOLOv5 🚀 2023-4-22 Python-3.10.6 torch-1.13.1+cu117 CPU\n",
      "\n",
      "Fusing layers... \n"
     ]
    },
    {
     "name": "stdout",
     "output_type": "stream",
     "text": [
      "\u001b[31m\u001b[1mrequirements:\u001b[0m /home/cmos/.cache/torch/hub/requirements.txt not found, check failed.\n"
     ]
    },
    {
     "name": "stderr",
     "output_type": "stream",
     "text": [
      "[W NNPACK.cpp:53] Could not initialize NNPACK! Reason: Unsupported hardware.\n",
      "YOLOv5s summary: 213 layers, 7225885 parameters, 0 gradients\n",
      "Adding AutoShape... \n"
     ]
    }
   ],
   "source": [
    "model = torch.hub.load(\"ultralytics/yolov5\", \"yolov5s\")"
   ]
  },
  {
   "cell_type": "code",
   "execution_count": 4,
   "id": "ffb01889",
   "metadata": {},
   "outputs": [],
   "source": [
    "# Parse command line arguments\n",
    "# Parse command line arguments\n",
    "parser = argparse.ArgumentParser()\n",
    "parser.add_argument('--weights', type=str, default='yolov5s.pt', help='path to YOLOv5 weights file')\n",
    "parser.add_argument('--img-size', type=int, default=640, help='input image size')\n",
    "parser.add_argument('--conf-thres', type=float, default=0.5, help='object confidence threshold')\n",
    "parser.add_argument('--iou-thres', type=float, default=0.5, help='IOU threshold for NMS')\n",
    "args = parser.parse_args(['--weights', 'yolov5s.pt', '--img-size', '640', '--conf-thres', '0.5', '--iou-thres', '0.5'])"
   ]
  },
  {
   "cell_type": "code",
   "execution_count": 7,
   "id": "9625b9c9",
   "metadata": {},
   "outputs": [],
   "source": [
    "# Load YOLOv5 model\n",
    "# model = torch.hub.load('ultralytics/yolov5', 'custom', path=args.weights, force_reload=True)\n",
    "model.conf = args.conf_thres\n",
    "model.iou = args.iou_thres\n",
    "model.classes = [0]  # Only detect people"
   ]
  },
  {
   "cell_type": "code",
   "execution_count": 15,
   "id": "8a88cce8",
   "metadata": {},
   "outputs": [],
   "source": [
    "\n",
    "# Open camera\n",
    "cap = cv2.VideoCapture(0)\n",
    "\n",
    "# Dictionary to keep track of the number of times each person has been seen\n",
    "people_count = {}\n",
    "\n",
    "while True:\n",
    "    # Read frame from camera\n",
    "    ret, frame = cap.read()\n",
    "    if not ret:\n",
    "        break\n",
    "\n",
    "    # Detect people in the frame\n",
    "    results = model(frame)\n",
    "\n",
    "    # Identify each person as the owner of a luggage and display count\n",
    "    for box in results.xyxy[0]:\n",
    "        # Get coordinates of the box\n",
    "        x1, y1, x2, y2, conf, cls = box.tolist()\n",
    "\n",
    "        # Calculate box center coordinates\n",
    "        x_center = int((x1 + x2) / 2)\n",
    "        y_center = int((y1 + y2) / 2)\n",
    "\n",
    "        # Generate unique ID for this person\n",
    "        person_id = f'{x_center},{y_center}'\n",
    "\n",
    "        # Add person to the count dictionary if not already present\n",
    "        if person_id not in people_count:\n",
    "            people_count[person_id] = 0\n",
    "\n",
    "        # Increment count for this person\n",
    "        people_count[person_id] += 1\n",
    "\n",
    "        # Draw the box and label\n",
    "        cv2.rectangle(frame, (int(x1), int(y1)), (int(x2), int(y2)), (0, 255, 0), 2)\n",
    "        cv2.putText(frame, f'Luggage ({people_count[person_id]})', (int(x1), int(y1)), cv2.FONT_HERSHEY_SIMPLEX, 1, (0, 255, 0), 2)\n",
    "\n",
    "    # Show the frame\n",
    "    cv2.imshow('frame', frame)\n",
    "\n",
    "    # Wait for key press to exit\n",
    "    if cv2.waitKey(1) == ord('q'):\n",
    "        break\n",
    "\n",
    "# Release the camera and close the window\n",
    "cap.release()\n",
    "cv2.destroyAllWindows()\n"
   ]
  },
  {
   "cell_type": "code",
   "execution_count": null,
   "id": "cee44286",
   "metadata": {},
   "outputs": [],
   "source": []
  }
 ],
 "metadata": {
  "kernelspec": {
   "display_name": "Python 3 (ipykernel)",
   "language": "python",
   "name": "python3"
  },
  "language_info": {
   "codemirror_mode": {
    "name": "ipython",
    "version": 3
   },
   "file_extension": ".py",
   "mimetype": "text/x-python",
   "name": "python",
   "nbconvert_exporter": "python",
   "pygments_lexer": "ipython3",
   "version": "3.10.6"
  }
 },
 "nbformat": 4,
 "nbformat_minor": 5
}
